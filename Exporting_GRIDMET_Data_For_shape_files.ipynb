{
 "cells": [
  {
   "cell_type": "code",
   "execution_count": 1,
   "id": "124cedc2-ceb8-4e0b-bbeb-54b7b867430c",
   "metadata": {},
   "outputs": [
    {
     "data": {
      "text/html": [
       "<p>To authorize access needed by Earth Engine, open the following\n",
       "        URL in a web browser and follow the instructions:</p>\n",
       "        <p><a href=https://code.earthengine.google.com/client-auth?scopes=https%3A//www.googleapis.com/auth/earthengine%20https%3A//www.googleapis.com/auth/devstorage.full_control&request_id=OE6SLl91Ul_RikWCKZRksGY61skkBjFoeiehhfIKvpM&tc=hhX93M6G1UiEO84Vd3ir1-nvGxFW86fN4gyFh4wdW38&cc=a3EZkMpIE8IK31F8MI_hg8Ej7hnijJC0WiVuDYCrQ6E>https://code.earthengine.google.com/client-auth?scopes=https%3A//www.googleapis.com/auth/earthengine%20https%3A//www.googleapis.com/auth/devstorage.full_control&request_id=OE6SLl91Ul_RikWCKZRksGY61skkBjFoeiehhfIKvpM&tc=hhX93M6G1UiEO84Vd3ir1-nvGxFW86fN4gyFh4wdW38&cc=a3EZkMpIE8IK31F8MI_hg8Ej7hnijJC0WiVuDYCrQ6E</a></p>\n",
       "        <p>The authorization workflow will generate a code, which you should paste in the box below.</p>\n",
       "        "
      ],
      "text/plain": [
       "<IPython.core.display.HTML object>"
      ]
     },
     "metadata": {},
     "output_type": "display_data"
    },
    {
     "name": "stdin",
     "output_type": "stream",
     "text": [
      "Enter verification code:  4/1ASVgi3J88smcu-XS7N3EaWvnn80AbDzLmUuoTrPqB_FJuO6x4ISyVLlMxlA\n"
     ]
    },
    {
     "name": "stdout",
     "output_type": "stream",
     "text": [
      "\n",
      "Successfully saved authorization token.\n"
     ]
    }
   ],
   "source": [
    "# this python script calcualtes annual mean aridity and spei index from GRIDMET for a specified timeperiod\n",
    "# for a specified shape files\n",
    "# we are using geemap python module for GEE (https://geemap.org/)\n",
    "# credit is given for geemap developer\n",
    "# you need to first install geemap package in your python environment\n",
    "# before running this script\n",
    "# to do this, we need shapefiles in wgs84 format\n"
   ]
  },
  {
   "cell_type": "code",
   "execution_count": null,
   "id": "7f304d3e-ad05-4297-b640-e6ca67a0870e",
   "metadata": {},
   "outputs": [],
   "source": [
    "# authenticate \n",
    "import ee\n",
    "\n",
    "# Trigger the authentication flow.\n",
    "ee.Authenticate()\n",
    "\n",
    "# Initialize the library.\n",
    "ee.Initialize()"
   ]
  },
  {
   "cell_type": "code",
   "execution_count": 2,
   "id": "3c1406c2-77be-4af8-95be-5ed8c08a19be",
   "metadata": {},
   "outputs": [],
   "source": [
    "#import modules\n",
    "import geemap\n",
    "import os\n"
   ]
  },
  {
   "cell_type": "code",
   "execution_count": 154,
   "id": "9cdd8042-efd9-4e67-83ea-b63ce2ff447e",
   "metadata": {},
   "outputs": [
    {
     "name": "stdout",
     "output_type": "stream",
     "text": [
      "Computing statistics ...\n",
      "Generating URL ...\n",
      "Downloading data from https://earthengine.googleapis.com/v1alpha/projects/earthengine-legacy/tables/b8b0bb8b95ddb3ac4a8712cc758251f1-865b43c6b890dfbe78224aa869fb16c7:getFeatures\n",
      "Please wait ...\n",
      "Data downloaded to C:\\Users\\sdhital\\Downloads\\GRIDMET_Annual_AI_FOR_DART_1400_to_1600.csv\n",
      "Computing statistics ...\n",
      "Generating URL ...\n",
      "Downloading data from https://earthengine.googleapis.com/v1alpha/projects/earthengine-legacy/tables/f42ffaa201fa98d30feb041e0c08b564-505dce40999fc93ed3c6bfe1e8a2d900:getFeatures\n",
      "Please wait ...\n",
      "Data downloaded to C:\\Users\\sdhital\\Downloads\\GRIDMET_Annual_SPEI_FOR_DART_1400_to_1600.csv\n"
     ]
    }
   ],
   "source": [
    "# read shapefile \n",
    "# since we are reading shape files for each 250 polygons\n",
    "# 250 polygons were choosen because when choosing more than that, GEE send error for excedding computational resources\n",
    "# we are defining values for reading shape files\n",
    "\n",
    "\n",
    "# provide path for your specified file\n",
    "shp_file = 'C:\\\\Users\\\\..\\\\..\\\\filenamd.shp'\n",
    "\n",
    "# Example\n",
    "str_idx = 0\n",
    "end_idx = 250\n",
    "shp_file = 'C:\\\\Users\\\\..\\\\..\\\\..\\\\all_LTDL_WRI_projects_wgs_first_'+ str(str_idx) +'_to_'+str(end_idx)+'.shp'\n",
    "\n",
    "\n",
    "\n",
    "# convert each shapefile inside the shape file to GEE feature\n",
    "polys = geemap.shp_to_ee(shp_file)\n",
    "\n",
    "\n",
    "# now read image collections for aridity index calculation\n",
    "coll_gridmet =  ee.ImageCollection('IDAHO_EPSCOR/GRIDMET')\n",
    "\n",
    "# select start and end year\n",
    "srt_yr = 1980\n",
    "end_yr = 2020\n",
    "\n",
    "# filter data based on date range, band, and feature\n",
    "precip = coll_gridmet.select('pr')\n",
    "et = coll_gridmet.select('eto')\n",
    "\n",
    "\n",
    "# define a function to calcualte aridity index (ai)\n",
    "def ai(image):\n",
    "    image = image.addBands(image.expression(\n",
    "            '(precip/(et))',\n",
    "        {\n",
    "                'precip': image.select('pr'),\n",
    "                'et': image.select('eto'),\n",
    "                 }).rename('ai'))\\\n",
    "                .copyProperties(image, ['system:time_start'])\n",
    "\n",
    "    return image\n",
    "\n",
    "coll_ai = coll.map(ai)     \n",
    "\n",
    "# now calcualte annual mean ai\n",
    "# define a function that calculates yearly mean\n",
    "\n",
    "years = ee.List.sequence(srt_yr, end_yr)\n",
    "\n",
    "def yr_mean_ai(year):\n",
    "    image = coll_ai.filter(ee.Filter.calendarRange(year, year, 'year')).select('ai').mean().rename('yr_mean_ai')\n",
    "    return image\n",
    "\n",
    "# map this function over all image colelction to year yearly mean ai\n",
    "coll_ai_yr_mean = coll_ai.fromImages(years.map(yr_mean_ai))\n",
    "\n",
    "\n",
    "\n",
    "# for spei\n",
    "# filter based on date range, band, and feature\n",
    "\n",
    "coll_gridmet_drought =  ee.ImageCollection('GRIDMET/DROUGHT')\n",
    "band = ['spei1y']\n",
    "\n",
    "coll_spei = coll_gridmet_drought.select(band)\n",
    "\n",
    "def yr_mean_spei(year):\n",
    "    image = coll_spei.filter(ee.Filter.calendarRange(year, year, 'year')).select('spei1y').mean().rename('yr_mean_spei')\n",
    "    return image\n",
    "\n",
    "# map this function over all image colelction\n",
    "coll_spei_yr_mean = coll_spei.fromImages(years.map(yr_mean_spei))\n",
    "\n",
    "# now export ai data\n",
    "out_dir = os.path.join(os.path.expanduser('~'), 'Downloads')\n",
    "\n",
    "\n",
    "\n",
    "# we export data when scale = 4000m and 1000m\n",
    "# when exporting with scale=4000m, we are missing some values\n",
    "# here scale = 4000 is choosen to match ~4km of GRIDMET resolution\n",
    "# possibly because polygons are very small, but after changing scale=1000m, we have values for all polygons, may be due downscaled value\n",
    "#export ai\n",
    "out_ai_stats = os.path.join(out_dir, 'GRIDMET_Annual_AI_FOR_DART_'+ str(str_idx) +'_to_'+str(end_idx)+'.csv')\n",
    "geemap.zonal_statistics(coll_ai_yr_mean.select('yr_mean_ai'), polys, out_ai_stats, statistics_type = 'MEAN', scale=1000)\n",
    "\n",
    "\n",
    "# export spei\n",
    "out_spei_stats = os.path.join(out_dir, 'GRIDMET_Annual_SPEI_FOR_DART_'+ str(str_idx) +'_to_'+str(end_idx)+'.csv')\n",
    "geemap.zonal_statistics(coll_spei_yr_mean.select('yr_mean_spei'), polys, out_spei_stats, statistics_type = 'MEAN', scale=1000)\n",
    "\n",
    "\n",
    "\n",
    "###################################\n",
    "# end\n",
    "\n",
    "###################################\n",
    "\n"
   ]
  },
  {
   "cell_type": "code",
   "execution_count": 141,
   "id": "907da5c6-a883-4db4-9fbc-98c7ba5203df",
   "metadata": {},
   "outputs": [
    {
     "data": {
      "application/vnd.jupyter.widget-view+json": {
       "model_id": "0620fb5e1ffb47f99b76994a383a6370",
       "version_major": 2,
       "version_minor": 0
      },
      "text/plain": [
       "Map(center=[40, -100], controls=(WidgetControl(options=['position', 'transparent_bg'], widget=HBox(children=(T…"
      ]
     },
     "metadata": {},
     "output_type": "display_data"
    }
   ],
   "source": [
    "# you can also check data and features by plotting them\n",
    "Map = geemap.Map()\n",
    "Map.addLayer(polys, {}, 'polys')\n",
    "Map"
   ]
  }
 ],
 "metadata": {
  "kernelspec": {
   "display_name": "Python 3 (ipykernel)",
   "language": "python",
   "name": "python3"
  },
  "language_info": {
   "codemirror_mode": {
    "name": "ipython",
    "version": 3
   },
   "file_extension": ".py",
   "mimetype": "text/x-python",
   "name": "python",
   "nbconvert_exporter": "python",
   "pygments_lexer": "ipython3",
   "version": "3.9.5"
  }
 },
 "nbformat": 4,
 "nbformat_minor": 5
}
